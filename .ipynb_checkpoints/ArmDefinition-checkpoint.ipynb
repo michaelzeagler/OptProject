{
 "cells": [
  {
   "cell_type": "markdown",
   "metadata": {},
   "source": [
    "# defines a 3D, 3DOF, human configured arm from the shoulder to wrist"
   ]
  },
  {
   "cell_type": "code",
   "execution_count": null,
   "metadata": {},
   "outputs": [],
   "source": [
    "from sympy import symbols, cse, Function, diff, MatrixSymbol, Eq, BlockMatrix, Matrix\n",
    "from sympy import latex \n",
    "\n",
    "from sympy.physics.mechanics import dynamicsymbols, ReferenceFrame, Point,\\\n",
    "kinetic_energy, potential_energy, inertia, RigidBody, Lagrangian, \\\n",
    "LagrangesMethod, init_vprinting, msubs\n",
    "\n",
    "init_vprinting()\n",
    "\n",
    "from sympy.physics.matrices import Matrix\n",
    "\n",
    "#from sympy.utilities.lambdify import lambdify, implemented_function\n",
    "\n",
    "#import numpy\n",
    "\n",
    "#from pydy.codegen.ode_function_generators import generate_ode_function\n",
    "\n",
    "from sympy.utilities.codegen import codegen, Routine\n",
    "\n",
    "from sympy.printing.cxxcode import CXX11CodePrinter\n",
    "from sympy.printing.ccode import C99CodePrinter"
   ]
  },
  {
   "cell_type": "markdown",
   "metadata": {},
   "source": [
    "# system modifications from other domains (FEA, motor modeling) would have to go here before mass properties & link lengths"
   ]
  },
  {
   "cell_type": "code",
   "execution_count": 5,
   "metadata": {
    "collapsed": true
   },
   "outputs": [],
   "source": [
    "# reference frames - need to start the link simplification from here\n",
    "\n",
    "GroundFrame = ReferenceFrame('F_g')\n",
    "\n",
    "link01Frame    = ReferenceFrame('F_{1}')\n",
    "link02Frame    = ReferenceFrame('F_{2}')\n",
    "link03Frame    = ReferenceFrame('F_{3}')\n",
    "\n",
    "framelist = [GroundFrame,link01Frame,link02Frame,link03Frame]"
   ]
  },
  {
   "cell_type": "code",
   "execution_count": 6,
   "metadata": {
    "collapsed": true
   },
   "outputs": [],
   "source": [
    "# coordinates and states\n",
    "th1,th2,th3         = dynamicsymbols('theta1,theta2,theta3')\n",
    "th1d,th2d,th3d     = dynamicsymbols('theta1,theta2,theta3',1)\n",
    "th1dd,th2dd,th3dd = dynamicsymbols('theta1,theta2,theta3',2)\n",
    "\n",
    "om1,om2,om3        = dynamicsymbols('omega1,omega2,omega3')\n",
    "omd1,omd2,omd3     = dynamicsymbols('omega1,omega2,omega3',1)\n",
    "\n",
    "\n",
    "q   = Matrix([th1,  th2,  th3])\n",
    "\n",
    "qd  = Matrix([th1d, th2d, th3d])\n",
    "#qd  = Matrix([om1, om2, om3])\n",
    "\n",
    "qdd = Matrix([th1dd,th2dd,th3dd])\n",
    "#qdd = Matrix([omd1, omd2, omd3])\n",
    "\n",
    "xst   = Matrix([*q,  *qd])\n",
    "xdst  = Matrix([*qd, *qdd])"
   ]
  },
  {
   "cell_type": "code",
   "execution_count": 7,
   "metadata": {
    "collapsed": true
   },
   "outputs": [],
   "source": [
    "# aligning frames\n",
    "\n",
    "link01Frame.orient(GroundFrame, 'Axis',(th1,GroundFrame.z))\n",
    "link02Frame.orient(link01Frame, 'Axis',(th2,link01Frame.x))\n",
    "link03Frame.orient(link02Frame, 'Axis',(th3,link02Frame.x))\n",
    "\n",
    "\n",
    "link01Frame.set_ang_vel(GroundFrame, th1d*GroundFrame.z)\n",
    "link02Frame.set_ang_vel(link01Frame, th2d*link01Frame.x)\n",
    "link03Frame.set_ang_vel(link02Frame, th3d*link02Frame.x)"
   ]
  },
  {
   "cell_type": "code",
   "execution_count": 8,
   "metadata": {
    "collapsed": true
   },
   "outputs": [],
   "source": [
    "# defining joint positions & velocities\n",
    "\n",
    "shoulder = Point('shoulder') \n",
    "shoulder.set_vel(GroundFrame,0)\n",
    "\n",
    "elbow = Point('elbow')\n",
    "#UpArmLen = .2\n",
    "UpArmLen = symbols('L_{ua}')\n",
    "elbow.set_pos(shoulder , UpArmLen * link01Frame.x)\n",
    "elbow.v2pt_theory(shoulder,GroundFrame,link02Frame);\n",
    "\n",
    "wrist = Point('wrist')\n",
    "wrist.set_pos(elbow , UpArmLen*link03Frame.z);\n",
    "wrist.v2pt_theory(elbow,GroundFrame,link03Frame);"
   ]
  },
  {
   "cell_type": "code",
   "execution_count": 9,
   "metadata": {
    "collapsed": true
   },
   "outputs": [],
   "source": [
    "# setting positions of centers of mass\n",
    "\n",
    "l1com = Point('l1com')\n",
    "l2com = Point('l2com')\n",
    "l3com = Point('l3com')\n",
    "\n",
    "l1com.set_pos(shoulder, 0)\n",
    "l2com.set_pos(shoulder, .5*UpArmLen*link02Frame.z)\n",
    "l3com.set_pos(elbow, .5*UpArmLen*link03Frame.z)\n",
    "\n",
    "\n",
    "\n",
    "l1com.v2pt_theory(shoulder,GroundFrame,link01Frame);\n",
    "l2com.v2pt_theory(shoulder,GroundFrame,link02Frame);\n",
    "l3com.v2pt_theory(shoulder,GroundFrame,link03Frame);"
   ]
  },
  {
   "cell_type": "code",
   "execution_count": 10,
   "metadata": {
    "collapsed": true
   },
   "outputs": [],
   "source": [
    "# link masses and inertias\n",
    "m_b, m_r = symbols('m_b m_r')\n",
    "Jx, Jz, jzshoulder= symbols('J_x J_z J_zs')\n",
    "\n",
    "# inertia dyadics\n",
    "JShoulder = inertia(link01Frame,0,0,jzshoulder,ixy=0,iyz=0,izx=0)\n",
    "JUpper    = inertia(link02Frame,Jx,Jx,Jz,      ixy=0,iyz=0,izx=0)\n",
    "JFore     = inertia(link03Frame,Jx,Jx,Jz,      ixy=0,iyz=0,izx=0)\n",
    "\n",
    "# JFore.to_matrix(link04Frame) # produces a tensor from the dyadic"
   ]
  },
  {
   "cell_type": "code",
   "execution_count": 11,
   "metadata": {
    "collapsed": true
   },
   "outputs": [],
   "source": [
    "# Defining rigid body classes\n",
    "\n",
    "link01 = RigidBody('Shoulder', l1com, link01Frame, m_b, (JShoulder, l1com))\n",
    "link02 = RigidBody('UpperArm', l2com, link02Frame, m_r, (JUpper   , l2com))\n",
    "link03 = RigidBody('LowerArm', l3com, link03Frame, m_r, (JFore   , l3com))\n"
   ]
  },
  {
   "cell_type": "code",
   "execution_count": 12,
   "metadata": {
    "collapsed": true
   },
   "outputs": [],
   "source": [
    "# Lagrangian\n",
    "\n",
    "g = symbols('g')\n",
    "\n",
    "link01.potential_energy = link01.mass * GroundFrame.y.dot(l1com.pos_from(shoulder)) * g\n",
    "link02.potential_energy = link02.mass * GroundFrame.y.dot(l2com.pos_from(shoulder)) * g\n",
    "link03.potential_energy = link03.mass * GroundFrame.y.dot(l3com.pos_from(shoulder)) * g"
   ]
  },
  {
   "cell_type": "code",
   "execution_count": 13,
   "metadata": {
    "collapsed": true
   },
   "outputs": [],
   "source": [
    "L = Lagrangian(GroundFrame,link01,link02,link03)"
   ]
  },
  {
   "cell_type": "code",
   "execution_count": 14,
   "metadata": {
    "collapsed": true
   },
   "outputs": [],
   "source": [
    "sys = LagrangesMethod(L,q)\n",
    "#sys = LagrangesMethod(L,q,forcelist=u_list,frame=GroundFrame)"
   ]
  },
  {
   "cell_type": "code",
   "execution_count": 15,
   "metadata": {
    "collapsed": true
   },
   "outputs": [],
   "source": [
    "# defining nonlinear system\n",
    "\n",
    "sys.form_lagranges_equations();\n",
    "\n",
    "D = sys.mass_matrix;\n",
    "H = sys.forcing;\n",
    "\n",
    "\n",
    "#f_b = sys.forcing;\n",
    "#B = f_b.jacobian(u)\n",
    "#H = f_b - B*u\n",
    "\n",
    "\n",
    "#f_x = D.inv()*H;\n",
    "#g_x = D.inv()*B;"
   ]
  },
  {
   "cell_type": "code",
   "execution_count": 16,
   "metadata": {
    "collapsed": true
   },
   "outputs": [],
   "source": [
    "# defining observer outputs\n",
    "\n",
    "h1 = wrist.pos_from(shoulder).dot(GroundFrame.x)\n",
    "h2 = wrist.pos_from(shoulder).dot(GroundFrame.y)\n",
    "h3 = wrist.pos_from(shoulder).dot(GroundFrame.z)\n",
    "\n",
    "vwrist = wrist.vel(GroundFrame)\n",
    "\n",
    "h1d = vwrist.dot(GroundFrame.x)\n",
    "h2d = vwrist.dot(GroundFrame.y)\n",
    "h3d = vwrist.dot(GroundFrame.z)\n",
    "\n",
    "h_x = Matrix([h1,h2,h3])\n",
    "hd_x = Matrix([h1d,h2d,h3d])\n",
    "\n",
    "dhdx = h_x.jacobian(xst)\n",
    "Lfh  = dhdx*xdst\n",
    "dLie = Lfh.jacobian(xst)"
   ]
  },
  {
   "cell_type": "code",
   "execution_count": 17,
   "metadata": {
    "collapsed": true
   },
   "outputs": [],
   "source": [
    "# defining actuator torques & B matrix\n",
    "\n",
    "tau1,tau2,tau3 = dynamicsymbols('tau1,tau2,tau3')\n",
    "u = Matrix([tau1,tau2,tau3])\n",
    "\n",
    "link01torques = tau1*link01Frame.z\n",
    "link02torques = tau2*link02Frame.x - tau3*link02Frame.z\n",
    "link03torques = tau3*link03Frame.z\n",
    "\n",
    "\n",
    "\n",
    "u_list = [(link01Frame,link01torques),(link02Frame,link02torques),\n",
    "(link03Frame,link03torques)]\n",
    "\n",
    "E_nc = u.T*q\n",
    "B = (E_nc.jacobian(u)).jacobian(q)"
   ]
  },
  {
   "cell_type": "markdown",
   "metadata": {},
   "source": [
    "# Code generation"
   ]
  },
  {
   "cell_type": "code",
   "execution_count": 18,
   "metadata": {
    "collapsed": true
   },
   "outputs": [],
   "source": [
    "# Matrix symbols for outputs in code generation\n",
    "\n",
    "out_Dmat    = MatrixSymbol('out_Dmat',*D.shape)\n",
    "out_Hvec    = MatrixSymbol('out_Hvec',*H.shape)\n",
    "out_Bmat    = MatrixSymbol('out_Bmat',*B.shape)\n",
    "out_dLie    = MatrixSymbol('out_dLie',*dLie.shape)"
   ]
  },
  {
   "cell_type": "code",
   "execution_count": 19,
   "metadata": {
    "collapsed": true
   },
   "outputs": [],
   "source": [
    "# state substitution\n",
    "\n",
    "# subsituting velocities beforehand to avoid issues with derivatives in cse\n",
    "vsym = symbols('v1 v2 v3')\n",
    "vmap = dict(zip(qd,vsym))\n",
    "\n",
    "x_st = xst.xreplace(vmap) # state vector with no velocities\n",
    "\n",
    "st = MatrixSymbol('st',*xst.shape)\n",
    "\n",
    "state_array_map = dict(zip(x_st,st))\n",
    "\n",
    "# parameter substitution\n",
    "freesymbols_set = H.free_symbols | D.free_symbols | dLie.free_symbols\n",
    "freesymbols_set.remove(symbols('t'))\n",
    "\n",
    "freesymbols = Matrix([*freesymbols_set])\n",
    "\n",
    "par = MatrixSymbol('par',*freesymbols.shape)\n",
    "parameter_map = dict(zip(freesymbols,par))\n",
    "\n",
    "\n",
    "\n",
    "\n",
    "fvalmap = {**state_array_map,**parameter_map}"
   ]
  },
  {
   "cell_type": "code",
   "execution_count": 32,
   "metadata": {
    "scrolled": true
   },
   "outputs": [
    {
     "data": {
      "image/png": "[encoded data removed]",
      "text/latex": [
       "$$\\left[\\begin{matrix}st_{0, 0}\\\\st_{1, 0}\\\\st_{2, 0}\\\\st_{3, 0}\\\\st_{4, 0}\\\\st_{5, 0}\\end{matrix}\\right]$$"
      ],
      "text/plain": [
       "⎡st₀₀⎤\n",
       "⎢    ⎥\n",
       "⎢st₁₀⎥\n",
       "⎢    ⎥\n",
       "⎢st₂₀⎥\n",
       "⎢    ⎥\n",
       "⎢st₃₀⎥\n",
       "⎢    ⎥\n",
       "⎢st₄₀⎥\n",
       "⎢    ⎥\n",
       "⎣st₅₀⎦"
      ]
     },
     "execution_count": 32,
     "metadata": {},
     "output_type": "execute_result"
    }
   ],
   "source": [
    "# state vector with all substitutions - prints as indexed if substitutions are correct\n",
    "\n",
    "x_st.xreplace(fvalmap)"
   ]
  },
  {
   "cell_type": "markdown",
   "metadata": {},
   "source": [
    "## Generating individual functions with codegen\n",
    "\n",
    "### single ode matrix symbol equality terms \n",
    "\n",
    "Dmat_cgen   = D.xreplace(fvalmap)\n",
    "Hvec_cgen   = H.xreplace(fvalmap)\n",
    "Bmat_cgen   = B.xreplace(fvalmap)\n",
    "dLie_cgen   = dLie.xreplace(fvalmap)\n",
    "\n",
    "D_eq        = Eq(out_Dmat,Dmat_cgen)\n",
    "H_eq        = Eq(out_Hvec,Hvec_cgen)\n",
    "B_eq        = Eq(out_Bmat,Bmat_cgen)\n",
    "L_eq        = Eq(out_dLie,dLie_cgen)\n",
    "\n",
    "\n",
    "\n",
    "### single ODE terms written to individual files\n",
    "\n",
    "[(c_Dmat,c_DmatSource),(h_Dmat,h_DmatSource)]\\\n",
    "= codegen((\\\n",
    "           'c_Dmat',D_eq),\\\n",
    "          language = 'c',\\\n",
    "          argument_sequence = (st,par,out_Dmat),\\\n",
    "          project = 'Robotic System Optimization',\\\n",
    "          global_vars = None,\\\n",
    "          to_files = True\n",
    "         )\n",
    "\n",
    "[(c_Hvec,c_HvecSource),(h_Hvec,h_HvecSource)]\\\n",
    "= codegen(('c_Hvec',H_eq),\\\n",
    "          language = 'c',\\\n",
    "          argument_sequence = (st,par,out_Hvec),\\\n",
    "          project = 'Robotic System Optimization')\n",
    "\n",
    "[(c_dLie,c_dLieSource),(h_dLie,h_dLieSource)]\\\n",
    "= codegen(('c_dLie',L_eq),\\\n",
    "          language = 'c',\\\n",
    "          argument_sequence = (st,par,out_dLie),\\\n",
    "          project = 'Robotic System Optimization')\n",
    "\n",
    "[(c_Bmat,c_BmatSource),(h_Bmat,h_BmatSource)]\\\n",
    "= codegen(('c_Bmat',B_eq),\\\n",
    "          language = 'c',\\\n",
    "          argument_sequence = (st,par,out_Bmat),\\\n",
    "          project = 'Robotic System Optimization')"
   ]
  },
  {
   "cell_type": "markdown",
   "metadata": {},
   "source": [
    "## Alternative method of using one single codegen call\n",
    "\n",
    "ODEeqs = [D_eq,H_eq,B_eq,L_eq] \n",
    "[(c_terms,c_terms_source),(h_terms,h_terms_source)]=\\\n",
    "        codegen(('ODEeqs',ODEeqs),\\\n",
    "               language = 'c',\\\n",
    "               argument_sequence = (st,par,out_Dmat,out_Hvec\\\n",
    "                                    ,out_Bmat,out_dLie),\\\n",
    "               project = 'Robotic System Optimization',\\\n",
    "               prefix = 'ODEterms_',\\\n",
    "               to_files = True,\\\n",
    "               header = True\\ \n",
    "               )"
   ]
  },
  {
   "cell_type": "markdown",
   "metadata": {},
   "source": [
    "# CSE for all terms simultaneously with code printing"
   ]
  },
  {
   "cell_type": "code",
   "execution_count": 21,
   "metadata": {},
   "outputs": [],
   "source": [
    "# generating subexpressions\n",
    "\n",
    "subextemp, ODEtermstemp = cse([D.xreplace(vmap),\\\n",
    "                               H.xreplace(vmap),\\\n",
    "                               B.xreplace(vmap),\\\n",
    "                               dLie.xreplace(vmap)])\n",
    "\n",
    "\n",
    "subex_mat = Matrix(subextemp).xreplace(fvalmap)\n",
    "subex_lh  = Matrix(subex_mat[:,0])\n",
    "subex_rh  = Matrix(subex_mat[:,1])\n",
    "\n",
    "\n",
    "subvar = []\n",
    "\n",
    "sub_map = dict(zip(subex_mat[:,0],subvar))\n",
    "\n",
    "nsubexestemp = subex_lh.shape\n",
    "nsubexes = nsubexestemp[0]\n",
    "    \n",
    "    \n",
    "    \n",
    "ODEterms =[];\n",
    "for ind in range(0, len(ODEtermstemp)):\n",
    "    ODEterms.append(ODEtermstemp[ind].xreplace(fvalmap))"
   ]
  },
  {
   "cell_type": "code",
   "execution_count": 22,
   "metadata": {},
   "outputs": [
    {
     "data": {
      "image/png": "[encoded data removed]",
      "text/latex": [
       "$$\\left \\{ \\right \\}$$"
      ],
      "text/plain": [
       "{}"
      ]
     },
     "execution_count": 22,
     "metadata": {},
     "output_type": "execute_result"
    }
   ],
   "source": [
    "sub_map"
   ]
  },
  {
   "cell_type": "markdown",
   "metadata": {},
   "source": [
    "### subclassing a printer for the subexpressions"
   ]
  },
  {
   "cell_type": "code",
   "execution_count": 23,
   "metadata": {
    "collapsed": true
   },
   "outputs": [],
   "source": [
    "class CSE_Cpp_printer(CXX11CodePrinter):\n",
    "    def _print_ImmutableDenseMatrix(self,expression):\n",
    "        \n",
    "        lines = []\n",
    "        \n",
    "        for idx, expr in enumerate(expression):\n",
    "            varnum = str(idx)\n",
    "            lines.append('double ' + 'x' + varnum + ' = ' + self._print(expr))\n",
    "       \n",
    "        return '\\n'.join(lines) "
   ]
  },
  {
   "cell_type": "code",
   "execution_count": 24,
   "metadata": {
    "collapsed": true
   },
   "outputs": [],
   "source": [
    "csepr = CSE_Cpp_printer()\n",
    "cpppr = CXX11CodePrinter()"
   ]
  },
  {
   "cell_type": "markdown",
   "metadata": {},
   "source": [
    "print(\\\n",
    "      csepr.doprint(subex_mat[:,1]) + '\\n\\n' +\\\n",
    "      cpppr.doprint(ODEterms[0]   , assign_to = out_Dmat)  + '\\n \\n' +\\\n",
    "      cpppr.doprint(ODEterms[1]   , assign_to = out_Hvec)  + '\\n \\n' +\\\n",
    "      cpppr.doprint(ODEterms[2]   , assign_to = out_Bmat)  + '\\n \\n' +\\\n",
    "      cpppr.doprint(ODEterms[3]   , assign_to = out_dLie)  + '\\n \\n' \\\n",
    "     )"
   ]
  },
  {
   "cell_type": "code",
   "execution_count": 25,
   "metadata": {
    "collapsed": true
   },
   "outputs": [],
   "source": [
    "# generating python functions to use in regular python optimization"
   ]
  },
  {
   "cell_type": "code",
   "execution_count": 26,
   "metadata": {},
   "outputs": [],
   "source": [
    "def ode_terms(st, par):\n",
    "    \n",
    "    subvar = []\n",
    "    \n",
    "    for ind in range(0,nsubexes):\n",
    "        subvar.append(subex_mat[ind,1].xreplace(sub_map))\n",
    "        print(subvar[ind])\n",
    "    \n",
    "    odeterms = []\n",
    "    for ind in range(0,len(ODEterms)):\n",
    "        odeterms.append(ODEterms[ind].xreplace(sub_map))\n",
    "    return odeterms"
   ]
  },
  {
   "cell_type": "code",
   "execution_count": 27,
   "metadata": {},
   "outputs": [
    {
     "data": {
      "image/png": "[encoded data removed]",
      "text/latex": [
       "$$\\left[\\begin{matrix}- 0.5 x_{1} x_{26} par_{1, 0} par_{4, 0} par_{5, 0} - x_{1} x_{27} x_{3} st_{4, 0} - x_{17} \\left(0.5 x_{36} x_{4} st_{3, 0} - x_{40} x_{41}\\right) + x_{22} st_{4, 0} - x_{24} st_{4, 0} - x_{33} x_{36} - x_{37} \\left(- x_{38} st_{4, 0} - x_{38} st_{5, 0} - x_{39} st_{4, 0} - x_{39} st_{5, 0}\\right) - \\left(x_{29} - 0.5 x_{32}\\right) par_{1, 0} par_{4, 0} - \\left(- x_{21} st_{4, 0} + x_{23} st_{4, 0}\\right) st_{3, 0} - \\left(x_{16} x_{41} par_{0, 0} + \\frac{x_{36}}{2} par_{2, 0}\\right) st_{3, 0}\\\\0.25 x_{1} x_{3} x_{4} x_{43} par_{1, 0} + x_{3} x_{42} + x_{46} + \\left(- x_{22} + x_{24}\\right) st_{3, 0}\\\\x_{46}\\end{matrix}\\right]$$"
      ],
      "text/plain": [
       "⎡                                                                             \n",
       "⎢-0.5⋅x₁⋅x₂₆⋅par₁₀⋅par₄₀⋅par₅₀ - x₁⋅x₂₇⋅x₃⋅st₄₀ - x₁₇⋅(0.5⋅x₃₆⋅x₄⋅st₃₀ - x₄₀⋅x\n",
       "⎢                                                                             \n",
       "⎢                                                                             \n",
       "⎢                                                                             \n",
       "⎢                                                                             \n",
       "⎣                                                                             \n",
       "\n",
       "                                                                              \n",
       "₄₁) + x₂₂⋅st₄₀ - x₂₄⋅st₄₀ - x₃₃⋅x₃₆ - x₃₇⋅(-x₃₈⋅st₄₀ - x₃₈⋅st₅₀ - x₃₉⋅st₄₀ - x\n",
       "                                                                              \n",
       "                                                                              \n",
       "                       0.25⋅x₁⋅x₃⋅x₄⋅x₄₃⋅par₁₀ + x₃⋅x₄₂ + x₄₆ + (-x₂₂ + x₂₄)⋅s\n",
       "                                                                              \n",
       "                                                  x₄₆                         \n",
       "\n",
       "                                                                       ⎛      \n",
       "₃₉⋅st₅₀) - (x₂₉ - 0.5⋅x₃₂)⋅par₁₀⋅par₄₀ - (-x₂₁⋅st₄₀ + x₂₃⋅st₄₀)⋅st₃₀ - ⎜x₁₆⋅x₄\n",
       "                                                                       ⎝      \n",
       "                                                                              \n",
       "t₃₀                                                                           \n",
       "                                                                              \n",
       "                                                                              \n",
       "\n",
       "          x₃₆⋅par₂₀⎞     ⎤\n",
       "₁⋅par₀₀ + ─────────⎟⋅st₃₀⎥\n",
       "              2    ⎠     ⎥\n",
       "                         ⎥\n",
       "                         ⎥\n",
       "                         ⎥\n",
       "                         ⎦"
      ]
     },
     "execution_count": 27,
     "metadata": {},
     "output_type": "execute_result"
    }
   ],
   "source": [
    "ODEterms[1].xreplace(sub_map)"
   ]
  },
  {
   "cell_type": "code",
   "execution_count": 28,
   "metadata": {},
   "outputs": [
    {
     "name": "stdout",
     "output_type": "stream",
     "text": [
      "st[1, 0]\n",
      "sin(x0)\n",
      "x1**2\n",
      "cos(x0)\n",
      "par[5, 0]**2\n",
      "x4*par[1, 0]\n",
      "0.25*x5\n",
      "st[2, 0]\n",
      "cos(x7)\n",
      "x1*x8\n",
      "sin(x7)\n",
      "x10*x3\n",
      "x11 + x9\n",
      "x12**2\n",
      "x3*x8\n",
      "x1*x10\n",
      "x14 - x15\n",
      "par[1, 0]/2\n",
      "0.5*x5\n",
      "-x16*x18\n",
      "x6 + par[2, 0]\n",
      "x1*x3*par[0, 0]\n",
      "x21*st[3, 0]\n",
      "x1*x3*par[2, 0]\n",
      "x23*st[3, 0]\n",
      "st[0, 0]\n",
      "sin(x25)\n",
      "0.5*x4*par[1, 0]*st[3, 0]\n",
      "cos(x25)\n",
      "x28*par[5, 0]\n",
      "x26*par[5, 0]\n",
      "-x11 - x9\n",
      "x30*x31\n",
      "par[2, 0]*st[3, 0]/2\n",
      "2*x15\n",
      "2*x14\n",
      "x12*(-x34*st[4, 0] - x34*st[5, 0] + x35*st[4, 0] + x35*st[5, 0])\n",
      "x16*par[0, 0]*st[3, 0]/2\n",
      "2*x9\n",
      "2*x11\n",
      "1.0*x4*(st[4, 0] + st[5, 0])\n",
      "-x11*st[4, 0] - x11*st[5, 0] - x9*st[4, 0] - x9*st[5, 0]\n",
      "0.5*x28*par[1, 0]*par[4, 0]*par[5, 0]\n",
      "st[3, 0]**2\n",
      "-x14 + x15\n",
      "x12*(-x34 + x35)\n",
      "x17*(-x31*x40*st[3, 0] + 0.25*x4*x43*x45) + x27*x41 - x42*x44 + (x33*x45 + x37*(-x38 - x39))*st[3, 0]\n",
      "x29*x44\n",
      "x12*st[4, 0]\n",
      "x12*st[5, 0]\n",
      "-x30*x48 - x30*x49 - x47*st[3, 0]\n",
      "-x29*x31 - x30\n",
      "x30*x44\n",
      "-x52\n",
      "x29*x48 + x29*x49 - x52*st[3, 0]\n",
      "x44*par[5, 0]\n",
      "x55*st[4, 0] + x55*st[5, 0]\n",
      "x31*par[5, 0]\n"
     ]
    },
    {
     "data": {
      "image/png": "[encoded data removed]",
      "text/latex": [
       "$$\\left [ \\left[\\begin{matrix}x_{13} par_{2, 0} + x_{16}^{2} par_{0, 0} + x_{17} \\left(0.5 x_{13} x_{4} + 2 x_{4}\\right) + x_{2} x_{6} + x_{2} par_{2, 0} + x_{3}^{2} par_{0, 0} + par_{3, 0} & x_{19} & x_{19}\\\\x_{19} & x_{18} + 2 par_{2, 0} & x_{20}\\\\x_{19} & x_{20} & x_{20}\\end{matrix}\\right], \\quad \\left[\\begin{matrix}- 0.5 x_{1} x_{26} par_{1, 0} par_{4, 0} par_{5, 0} - x_{1} x_{27} x_{3} st_{4, 0} - x_{17} \\left(0.5 x_{36} x_{4} st_{3, 0} - x_{40} x_{41}\\right) + x_{22} st_{4, 0} - x_{24} st_{4, 0} - x_{33} x_{36} - x_{37} \\left(- x_{38} st_{4, 0} - x_{38} st_{5, 0} - x_{39} st_{4, 0} - x_{39} st_{5, 0}\\right) - \\left(x_{29} - 0.5 x_{32}\\right) par_{1, 0} par_{4, 0} - \\left(- x_{21} st_{4, 0} + x_{23} st_{4, 0}\\right) st_{3, 0} - \\left(x_{16} x_{41} par_{0, 0} + \\frac{x_{36}}{2} par_{2, 0}\\right) st_{3, 0}\\\\0.25 x_{1} x_{3} x_{4} x_{43} par_{1, 0} + x_{3} x_{42} + x_{46} + \\left(- x_{22} + x_{24}\\right) st_{3, 0}\\\\x_{46}\\end{matrix}\\right], \\quad \\left[\\begin{matrix}1 & 0 & 0\\\\0 & 1 & 0\\\\0 & 0 & 1\\end{matrix}\\right], \\quad \\left[\\begin{matrix}- x_{47} st_{4, 0} - x_{47} st_{5, 0} + \\left(- x_{29} + x_{32}\\right) st_{3, 0} & x_{50} & x_{50} & x_{51} & x_{53} & x_{53}\\\\x_{51} st_{3, 0} - x_{52} st_{4, 0} - x_{52} st_{5, 0} & x_{54} & x_{54} & x_{29} - x_{32} & x_{47} & x_{47}\\\\0 & x_{56} & x_{56} & 0 & x_{57} & x_{57}\\end{matrix}\\right]\\right ]$$"
      ],
      "text/plain": [
       "⎡⎡               2                                                        2   \n",
       "⎢⎢x₁₃⋅par₂₀ + x₁₆ ⋅par₀₀ + x₁₇⋅(0.5⋅x₁₃⋅x₄ + 2⋅x₄) + x₂⋅x₆ + x₂⋅par₂₀ + x₃ ⋅pa\n",
       "⎢⎢                                                                            \n",
       "⎢⎢                                          x₁₉                               \n",
       "⎢⎢                                                                            \n",
       "⎢⎣                                          x₁₉                               \n",
       "⎣                                                                             \n",
       "\n",
       "                               ⎤  ⎡                                           \n",
       "r₀₀ + par₃₀       x₁₉       x₁₉⎥  ⎢-0.5⋅x₁⋅x₂₆⋅par₁₀⋅par₄₀⋅par₅₀ - x₁⋅x₂₇⋅x₃⋅s\n",
       "                               ⎥  ⎢                                           \n",
       "             x₁₈ + 2⋅par₂₀  x₂₀⎥, ⎢                                           \n",
       "                               ⎥  ⎢                                           \n",
       "                  x₂₀       x₂₀⎦  ⎢                                           \n",
       "                                  ⎣                                           \n",
       "\n",
       "                                                                              \n",
       "t₄₀ - x₁₇⋅(0.5⋅x₃₆⋅x₄⋅st₃₀ - x₄₀⋅x₄₁) + x₂₂⋅st₄₀ - x₂₄⋅st₄₀ - x₃₃⋅x₃₆ - x₃₇⋅(-\n",
       "                                                                              \n",
       "                                                                              \n",
       "                                                         0.25⋅x₁⋅x₃⋅x₄⋅x₄₃⋅par\n",
       "                                                                              \n",
       "                                                                              \n",
       "\n",
       "                                                                              \n",
       "x₃₈⋅st₄₀ - x₃₈⋅st₅₀ - x₃₉⋅st₄₀ - x₃₉⋅st₅₀) - (x₂₉ - 0.5⋅x₃₂)⋅par₁₀⋅par₄₀ - (-x\n",
       "                                                                              \n",
       "                                                                              \n",
       "₁₀ + x₃⋅x₄₂ + x₄₆ + (-x₂₂ + x₂₄)⋅st₃₀                                         \n",
       "                                                                              \n",
       "      x₄₆                                                                     \n",
       "\n",
       "                           ⎛                x₃₆⋅par₂₀⎞     ⎤                  \n",
       "₂₁⋅st₄₀ + x₂₃⋅st₄₀)⋅st₃₀ - ⎜x₁₆⋅x₄₁⋅par₀₀ + ─────────⎟⋅st₃₀⎥  ⎡1  0  0⎤  ⎡-x₄₇\n",
       "                           ⎝                    2    ⎠     ⎥  ⎢       ⎥  ⎢    \n",
       "                                                           ⎥, ⎢0  1  0⎥, ⎢    \n",
       "                                                           ⎥  ⎢       ⎥  ⎢    \n",
       "                                                           ⎥  ⎣0  0  1⎦  ⎣    \n",
       "                                                           ⎦                  \n",
       "\n",
       "                                                                    ⎤\n",
       "⋅st₄₀ - x₄₇⋅st₅₀ + (-x₂₉ + x₃₂)⋅st₃₀  x₅₀  x₅₀     x₅₁     x₅₃  x₅₃⎤⎥\n",
       "                                                                   ⎥⎥\n",
       " x₅₁⋅st₃₀ - x₅₂⋅st₄₀ - x₅₂⋅st₅₀       x₅₄  x₅₄  x₂₉ - x₃₂  x₄₇  x₄₇⎥⎥\n",
       "                                                                   ⎥⎥\n",
       "               0                      x₅₆  x₅₆      0      x₅₇  x₅₇⎦⎥\n",
       "                                                                    ⎦"
      ]
     },
     "execution_count": 28,
     "metadata": {},
     "output_type": "execute_result"
    }
   ],
   "source": [
    "st = Matrix([[0],[0],[0],[0],[0],[0]])\n",
    "ode_terms(st,par)"
   ]
  },
  {
   "cell_type": "code",
   "execution_count": 30,
   "metadata": {
    "collapsed": true
   },
   "outputs": [],
   "source": [
    "# Feedback linearizing control law for a relative degree 2 system\n",
    "def u_IO(xst, ydes, yddes, f, g, h_x, hd_x, dLie, poles):\n",
    "    \n",
    "    \n",
    "    l2fh  = dLie*f\n",
    "    lglfh = dLie*g\n",
    "\n",
    "    e_y = h_x  - ydes\n",
    "    e_yd =hd_x - yddes\n",
    "    \n",
    "    \n",
    "    nu   = e_y.multiply_elementwise(poles[:,0]) + \\\n",
    "        e_yd.multiply_elementwise(poles[:,1])\n",
    "\n",
    "    u = inverse(lglfh)*(l2fh - nu)\n",
    "\n",
    "    return u"
   ]
  },
  {
   "cell_type": "code",
   "execution_count": null,
   "metadata": {
    "collapsed": true
   },
   "outputs": [],
   "source": []
  }
 ],
 "metadata": {
  "kernelspec": {
   "display_name": "Python 3",
   "language": "python",
   "name": "python3"
  },
  "language_info": {
   "codemirror_mode": {
    "name": "ipython",
    "version": 3
   },
   "file_extension": ".py",
   "mimetype": "text/x-python",
   "name": "python",
   "nbconvert_exporter": "python",
   "pygments_lexer": "ipython3",
   "version": "3.6.2"
  }
 },
 "nbformat": 4,
 "nbformat_minor": 2
}
