{
 "cells": [
  {
   "cell_type": "code",
   "execution_count": 303,
   "metadata": {
    "collapsed": true
   },
   "outputs": [],
   "source": [
    "# defines a 3D, 3DOF, human configured arm from the shoulder to wrist"
   ]
  },
  {
   "cell_type": "code",
   "execution_count": 304,
   "metadata": {},
   "outputs": [],
   "source": [
    "from sympy import symbols, cse, Function, diff, MatrixSymbol, Eq\n",
    "\n",
    "from sympy.physics.mechanics import dynamicsymbols, ReferenceFrame, Point,\\\n",
    "kinetic_energy, potential_energy, inertia, RigidBody, Lagrangian, \\\n",
    "LagrangesMethod, init_vprinting, msubs\n",
    "\n",
    "init_vprinting()\n",
    "\n",
    "from sympy.physics.matrices import Matrix\n",
    "\n",
    "#from sympy.utilities.lambdify import lambdify, implemented_function\n",
    "\n",
    "#import numpy\n",
    "\n",
    "#from pydy.codegen.ode_function_generators import generate_ode_function\n",
    "\n",
    "#from sympy.utilities.codegen import codegen, Routine\n",
    "\n",
    "from sympy.printing.cxxcode import CXX11CodePrinter\n",
    "from sympy.printing.ccode import C99CodePrinter"
   ]
  },
  {
   "cell_type": "code",
   "execution_count": 305,
   "metadata": {
    "collapsed": true
   },
   "outputs": [],
   "source": [
    "# system modifications from other domains (FEA, motor modeling)\n",
    "# would have to go here before mass properties & link lengths"
   ]
  },
  {
   "cell_type": "code",
   "execution_count": 306,
   "metadata": {
    "collapsed": true
   },
   "outputs": [],
   "source": [
    "# reference frames - need to start the link simplification from here\n",
    "\n",
    "GroundFrame = ReferenceFrame('F_g')\n",
    "\n",
    "link01Frame    = ReferenceFrame('F_{1}')\n",
    "link02Frame    = ReferenceFrame('F_{2}')\n",
    "link03Frame    = ReferenceFrame('F_{3}')\n",
    "link04Frame    = ReferenceFrame('F_{4}')\n",
    "\n",
    "framelist = [GroundFrame,link01Frame,link02Frame,link03Frame,link04Frame]"
   ]
  },
  {
   "cell_type": "code",
   "execution_count": 307,
   "metadata": {
    "collapsed": true
   },
   "outputs": [],
   "source": [
    "# coordinates and states\n",
    "th1,th2,th3,th4         = dynamicsymbols('theta1,theta2,theta3,theta4')\n",
    "th1d,th2d,th3d,th4d     = dynamicsymbols('theta1,theta2,theta3,theta4',1)\n",
    "th1dd,th2dd,th3dd,th4dd = dynamicsymbols('theta1,theta2,theta3,theta4',2)\n",
    "\n",
    "om1,om2,om3,om4         = dynamicsymbols('omega1,omega2,omega3,omega4')\n",
    "omd1,omd2,omd3,omd4     = dynamicsymbols('omega1,omega2,omega3,omega4',1)\n",
    "\n",
    "\n",
    "q   = Matrix([th1,  th2,  th3,  th4])\n",
    "\n",
    "qd  = Matrix([th1d, th2d, th3d, th4d])\n",
    "#qd  = Matrix([om1, om2, om3, om4])\n",
    "\n",
    "qdd = Matrix([th1dd,th2dd,th3dd,th4dd])\n",
    "#qdd = Matrix([omd1, omd2, omd3, omd4])\n",
    "\n",
    "xst   = Matrix([*q,  *qd])\n",
    "xdst  = Matrix([*qd, *qdd])"
   ]
  },
  {
   "cell_type": "code",
   "execution_count": 308,
   "metadata": {
    "collapsed": true
   },
   "outputs": [],
   "source": [
    "# aligning frames\n",
    "\n",
    "link01Frame.orient(GroundFrame, 'Axis',(th1,GroundFrame.z))\n",
    "link02Frame.orient(link01Frame, 'Axis',(th2,link01Frame.x))\n",
    "link03Frame.orient(link02Frame, 'Axis',(th3,link02Frame.z))\n",
    "link04Frame.orient(link03Frame, 'Axis',(th4,link03Frame.x))\n",
    "\n",
    "link01Frame.set_ang_vel(GroundFrame, th1d*GroundFrame.z)\n",
    "link02Frame.set_ang_vel(link01Frame, th2d*link01Frame.x)\n",
    "link03Frame.set_ang_vel(link02Frame, th3d*link02Frame.z)\n",
    "link04Frame.set_ang_vel(link03Frame, th4d*link03Frame.x)"
   ]
  },
  {
   "cell_type": "code",
   "execution_count": 309,
   "metadata": {
    "collapsed": true
   },
   "outputs": [],
   "source": [
    "# defining joint positions\n",
    "\n",
    "shoulder = Point('shoulder') \n",
    "shoulder.set_vel(GroundFrame,0)\n",
    "\n",
    "elbow = Point('elbow')\n",
    "#UpArmLen = .2\n",
    "UpArmLen = symbols('L_{ua}')\n",
    "elbow.set_pos(shoulder , UpArmLen * link02Frame.z)\n",
    "elbow.v2pt_theory(shoulder,GroundFrame,link02Frame);\n",
    "\n",
    "wrist = Point('wrist')\n",
    "wrist.set_pos(elbow , UpArmLen*link04Frame.z);\n",
    "wrist.v2pt_theory(elbow,GroundFrame,link04Frame);\n",
    "\n",
    "#wrist.pos_from(shoulder)\n",
    "#V_w = wrist.vel(GroundFrame)\n",
    "#V_w"
   ]
  },
  {
   "cell_type": "code",
   "execution_count": 310,
   "metadata": {
    "collapsed": true
   },
   "outputs": [],
   "source": [
    "# setting positions of centers of mass\n",
    "\n",
    "l1com = Point('l1com')\n",
    "l2com = Point('l2com')\n",
    "l3com = Point('l3com')\n",
    "l4com = Point('l4com')\n",
    "\n",
    "l1com.set_pos(shoulder, 0)\n",
    "l2com.set_pos(shoulder, .45*UpArmLen*link02Frame.z)\n",
    "l3com.set_pos(shoulder, .55*UpArmLen*link03Frame.z)\n",
    "l4com.set_pos(elbow   , .5 *UpArmLen*link04Frame.z)\n",
    "\n",
    "\n",
    "l1com.v2pt_theory(shoulder,GroundFrame,link01Frame);\n",
    "l2com.v2pt_theory(shoulder,GroundFrame,link02Frame);\n",
    "l3com.v2pt_theory(shoulder,GroundFrame,link03Frame);\n",
    "l4com.v2pt_theory(elbow   ,GroundFrame,link04Frame);"
   ]
  },
  {
   "cell_type": "code",
   "execution_count": 311,
   "metadata": {
    "collapsed": true
   },
   "outputs": [],
   "source": [
    "# link masses and inertias\n",
    "m_b, m_r = symbols('m_b m_r')\n",
    "Jx, Jz, jzshoulder= symbols('J_x J_z J_zs')\n",
    "\n",
    "# inertia dyadics\n",
    "JShoulder = inertia(link01Frame,0,0,jzshoulder,ixy=0,iyz=0,izx=0)\n",
    "JUpper    = inertia(link02Frame,Jx,Jx,Jz,      ixy=0,iyz=0,izx=0)\n",
    "JLower    = inertia(link03Frame,Jx,Jx,Jz,      ixy=0,iyz=0,izx=0)\n",
    "JFore     = inertia(link04Frame,Jx,Jx,Jz,      ixy=0,iyz=0,izx=0)\n",
    "\n",
    "# JFore.to_matrix(link04Frame) # produces a tensor from the dyadic"
   ]
  },
  {
   "cell_type": "code",
   "execution_count": 312,
   "metadata": {
    "collapsed": true
   },
   "outputs": [],
   "source": [
    "# Defining rigid body classes\n",
    "\n",
    "link01 = RigidBody('Shoulder', l1com, link01Frame, m_b, (JShoulder, l1com))\n",
    "link02 = RigidBody('UpperArm', l2com, link02Frame, m_r, (JUpper   , l2com))\n",
    "link03 = RigidBody('LowerArm', l3com, link03Frame, m_r, (JLower   , l3com))\n",
    "link04 = RigidBody('ForeArm' , l4com, link04Frame, m_r, (JFore    , l4com))"
   ]
  },
  {
   "cell_type": "code",
   "execution_count": 313,
   "metadata": {
    "collapsed": true
   },
   "outputs": [],
   "source": [
    "# Lagrangian\n",
    "\n",
    "g = symbols('g')\n",
    "\n",
    "link01.potential_energy = link01.mass * GroundFrame.y.dot(l1com.pos_from(shoulder)) * g\n",
    "link02.potential_energy = link02.mass * GroundFrame.y.dot(l2com.pos_from(shoulder)) * g\n",
    "link03.potential_energy = link03.mass * GroundFrame.y.dot(l3com.pos_from(shoulder)) * g\n",
    "link04.potential_energy = link04.mass * GroundFrame.y.dot(l4com.pos_from(shoulder)) * g"
   ]
  },
  {
   "cell_type": "code",
   "execution_count": 314,
   "metadata": {
    "collapsed": true
   },
   "outputs": [],
   "source": [
    "L = Lagrangian(GroundFrame,link01,link02,link03,link04)"
   ]
  },
  {
   "cell_type": "code",
   "execution_count": 315,
   "metadata": {
    "collapsed": true
   },
   "outputs": [],
   "source": [
    "sys = LagrangesMethod(L,q)\n",
    "#sys = LagrangesMethod(L,q,forcelist=u_list,frame=GroundFrame)"
   ]
  },
  {
   "cell_type": "code",
   "execution_count": 316,
   "metadata": {
    "collapsed": true
   },
   "outputs": [],
   "source": [
    "# defining nonlinear system\n",
    "\n",
    "sys.form_lagranges_equations();\n",
    "\n",
    "D = sys.mass_matrix;\n",
    "H = sys.forcing;\n",
    "\n",
    "\n",
    "#f_b = sys.forcing;\n",
    "#B = f_b.jacobian(u)\n",
    "#H = f_b - B*u\n",
    "\n",
    "\n",
    "#f_x = D.inv()*H;\n",
    "#g_x = D.inv()*B;"
   ]
  },
  {
   "cell_type": "code",
   "execution_count": 317,
   "metadata": {
    "collapsed": true
   },
   "outputs": [],
   "source": [
    "# defining observer outputs\n",
    "\n",
    "h1 = wrist.pos_from(shoulder).dot(GroundFrame.x)\n",
    "h2 = wrist.pos_from(shoulder).dot(GroundFrame.y)\n",
    "h3 = wrist.pos_from(shoulder).dot(GroundFrame.z)\n",
    "\n",
    "vwrist = wrist.vel(GroundFrame)\n",
    "\n",
    "h1d = vwrist.dot(GroundFrame.x)\n",
    "h2d = vwrist.dot(GroundFrame.y)\n",
    "h3d = vwrist.dot(GroundFrame.z)\n",
    "\n",
    "h_x = Matrix([h1,h2,h3])\n",
    "hd_x = Matrix([h1d,h2d,h3d])\n",
    "\n",
    "dhdx = h_x.jacobian(xst)\n",
    "Lfh  = dhdx*xdst\n",
    "dLie = Lfh.jacobian(xst)"
   ]
  },
  {
   "cell_type": "code",
   "execution_count": 318,
   "metadata": {
    "collapsed": true
   },
   "outputs": [],
   "source": [
    "# defining actuator torques & B matrix\n",
    "\n",
    "tau1,tau2,tau3,tau4 = dynamicsymbols('tau1,tau2,tau3,tau4')\n",
    "\n",
    "link01torques = tau1*link01Frame.z\n",
    "link02torques = tau2*link02Frame.x - tau3*link02Frame.z\n",
    "link03torques = tau3*link03Frame.z - tau4*link03Frame.x\n",
    "link04torques = tau4*link04Frame.x\n",
    "\n",
    "u = Matrix([tau1,tau2,tau3,tau4])\n",
    "u_list = [(link01Frame,link01torques),(link02Frame,link02torques),\n",
    "(link03Frame,link03torques),(link04Frame,link04torques)]\n",
    "\n",
    "E_nc = u.T*q\n",
    "B = (E_nc.jacobian(u)).jacobian(q)"
   ]
  },
  {
   "cell_type": "markdown",
   "metadata": {
    "collapsed": true
   },
   "source": [
    "### functions for ODE solutions\n",
    "\n",
    "\n",
    "#h_x = lambda x : cse(msubs(h, {th1:x[0],th2:x[1],th3:x[2],th4:x[3],\\\n",
    "     #th1d:x[4],th2d:x[5],th3d:x[6],th4d:x[7]}))\n",
    "\n",
    "#Dmat = lambda x : cse(msubs(D , {th1:x[0],th2:x[1],th3:x[2],th4:x[3],\\\n",
    " #th1d:x[4],th2d:x[5],th3d:x[6],th4d:x[7]}))\n",
    "    \n",
    "#Hvec = lambda x : cse(msubs(H ,{th1:x[0],th2:x[1],th3:x[2],th4:x[3],\\\n",
    " #th1d:x[4],th2d:x[5],th3d:x[6],th4d:x[7]}))\n",
    "\n",
    "#Bmat = lambda x : cse(msubs(B ,{th1:x[0],th2:x[1],th3:x[2],th4:x[3],\\\n",
    " #th1d:x[4],th2d:x[5],th3d:x[6],th4d:x[7]}))\n",
    "\n",
    "#d_Lfhdx = lambda x : cse(msubs(dLie ,{th1:x[0],th2:x[1],th3:x[2],th4:x[3],\\\n",
    " #th1d:x[4],th2d:x[5],th3d:x[6],th4d:x[7]}))"
   ]
  },
  {
   "cell_type": "markdown",
   "metadata": {
    "collapsed": true
   },
   "source": [
    "# Feedback linearizing control law\n",
    "def u_IO(xst, ydes, par, poles):\n",
    "    \n",
    "    Dinv = inverse(D(xst,par))\n",
    "\n",
    "    f = Dinv*H(xst,par)\n",
    "    g = Dinv*B(xst,par)\n",
    "\n",
    "    dLie = d_Lfhdx(xst,par)\n",
    "    l2fh  = dLie*f\n",
    "    lglfh = dLie*g\n",
    "\n",
    "    e_y = h_x(xst,par)  - ydes\n",
    "    e_yd =hd_x(xst,par) - yddes\n",
    "    nu   = e_y.multiply_elementwise(poles[:,0]) + \\\n",
    "        e_yd.multiply_elementwise(poles[:,1])\n",
    "\n",
    "    u = inverse(lglfh)*(l2fh - nu)\n",
    "\n",
    "    return u"
   ]
  },
  {
   "cell_type": "markdown",
   "metadata": {
    "collapsed": true
   },
   "source": [
    "# Code generation"
   ]
  },
  {
   "cell_type": "code",
   "execution_count": 319,
   "metadata": {},
   "outputs": [],
   "source": [
    "# state substitution\n",
    "st = MatrixSymbol('st', *xst.shape)\n",
    "state_array_map = dict(zip(xst,st))\n",
    "\n",
    "# parameter substitution\n",
    "freesymbols_set = H.free_symbols | D.free_symbols | dLie.free_symbols\n",
    "freesymbols_set.remove(symbols('t'))\n",
    "\n",
    "freesymbols = Matrix([*freesymbols_set])\n",
    "\n",
    "par = MatrixSymbol('par',*freesymbols.shape)\n",
    "parameter_map = dict(zip(freesymbols,par))\n",
    "\n",
    "\n",
    "\n",
    "\n",
    "fvalmap = {**state_array_map,**parameter_map}"
   ]
  },
  {
   "cell_type": "code",
   "execution_count": 320,
   "metadata": {
    "collapsed": true
   },
   "outputs": [],
   "source": [
    "# Matrix symbols for outputs in code generation\n",
    "\n",
    "out_Dmat    = MatrixSymbol('out_Dmat',*D.shape)\n",
    "out_Hvec    = MatrixSymbol('out_Hvec',*H.shape)\n",
    "out_Bmat    = MatrixSymbol('out_Bmat',*B.shape)\n",
    "out_dLie    = MatrixSymbol('out_dLie',*dLie.shape)"
   ]
  },
  {
   "cell_type": "markdown",
   "metadata": {
    "collapsed": true
   },
   "source": [
    "## Generating individual functions with codegen\n",
    "\n",
    "### single ode matrix symbol equality terms \n",
    "\n",
    "Dmat_cgen   = D.xreplace(fvalmap)\n",
    "Hvec_cgen   = H.xreplace(fvalmap)\n",
    "Bmat_cgen   = B.xreplace(fvalmap)\n",
    "dLie_cgen   = dLie.xreplace(fvalmap)\n",
    "\n",
    "D_eq        = Eq(out_Dmat,Dmat_cgen)\n",
    "H_eq        = Eq(out_Hvec,Hvec_cgen)\n",
    "B_eq        = Eq(out_Bmat,Bmat_cgen)\n",
    "L_eq        = Eq(out_dLie,dLie_cgen)\n",
    "\n",
    "\n",
    "\n",
    "### single ODE terms written to individual files\n",
    "\n",
    "[(c_Dmat,c_DmatSource),(h_Dmat,h_DmatSource)]\\\n",
    "= codegen((\\\n",
    "           'c_Dmat',D_eq),\\\n",
    "          language = 'c',\\\n",
    "          argument_sequence = (st,par,out_Dmat),\\\n",
    "          project = 'Robotic System Optimization',\\\n",
    "          global_vars = None,\\\n",
    "          to_files = True\n",
    "         )\n",
    "\n",
    "[(c_Hvec,c_HvecSource),(h_Hvec,h_HvecSource)]\\\n",
    "= codegen(('c_Hvec',H_eq),\\\n",
    "          language = 'c',\\\n",
    "          argument_sequence = (st,par,out_Hvec),\\\n",
    "          project = 'Robotic System Optimization')\n",
    "\n",
    "[(c_dLie,c_dLieSource),(h_dLie,h_dLieSource)]\\\n",
    "= codegen(('c_dLie',L_eq),\\\n",
    "          language = 'c',\\\n",
    "          argument_sequence = (st,par,out_dLie),\\\n",
    "          project = 'Robotic System Optimization')\n",
    "\n",
    "[(c_Bmat,c_BmatSource),(h_Bmat,h_BmatSource)]\\\n",
    "= codegen(('c_Bmat',B_eq),\\\n",
    "          language = 'c',\\\n",
    "          argument_sequence = (st,par,out_Bmat),\\\n",
    "          project = 'Robotic System Optimization')"
   ]
  },
  {
   "cell_type": "markdown",
   "metadata": {
    "collapsed": true
   },
   "source": [
    "## Alternative method of using one single codegen call\n",
    "\n",
    "ODEeqs = [D_eq,H_eq,B_eq,L_eq] \n",
    "[(c_terms,c_terms_source),(h_terms,h_terms_source)]=\\\n",
    "        codegen(('ODEeqs',ODEeqs),\\\n",
    "               language = 'c',\\\n",
    "               argument_sequence = (st,par,out_Dmat,out_Hvec\\\n",
    "                                    ,out_Bmat,out_dLie),\\\n",
    "               project = 'Robotic System Optimization',\\\n",
    "               prefix = 'ODEterms_',\\\n",
    "               to_files = True,\\\n",
    "               header = True\\ \n",
    "               )"
   ]
  },
  {
   "cell_type": "markdown",
   "metadata": {
    "collapsed": true
   },
   "source": [
    "# trying CSE for all terms simultaneously with code printing"
   ]
  },
  {
   "cell_type": "code",
   "execution_count": 322,
   "metadata": {},
   "outputs": [],
   "source": [
    "# generating subexpressions\n",
    "\n",
    "subex, ODEterms = cse([D.xreplace(state_array_map),H.xreplace(state_array_map),\\\n",
    "                       B.xreplace(state_array_map),dLie.xreplace(state_array_map)])\n",
    "\n",
    "subex_mat = Matrix(subex).xreplace(parameter_map)\n",
    "\n",
    "subexes   = MatrixSymbol(subex_mat[:,0],*subex_mat[:,0].shape)\n",
    "exes      = MatrixSymbol(subex_mat[:,1],*subex_mat[:,1].shape)"
   ]
  },
  {
   "cell_type": "code",
   "execution_count": 334,
   "metadata": {},
   "outputs": [
    {
     "ename": "SyntaxError",
     "evalue": "invalid syntax (<ipython-input-334-30aa17c2b75d>, line 6)",
     "output_type": "error",
     "traceback": [
      "\u001b[1;36m  File \u001b[1;32m\"<ipython-input-334-30aa17c2b75d>\"\u001b[1;36m, line \u001b[1;32m6\u001b[0m\n\u001b[1;33m    M = MatrixSymbol('M', *simplified.shape)\u001b[0m\n\u001b[1;37m    ^\u001b[0m\n\u001b[1;31mSyntaxError\u001b[0m\u001b[1;31m:\u001b[0m invalid syntax\n"
     ]
    }
   ],
   "source": [
    "class CSE_C_printer(C99CodePrinter):\n",
    "    def _print_ImmutableDenseMatrix(self,sub_exprs,simplified):\n",
    "        lines = []\n",
    "        for var, subexpr in sub_exprs:\n",
    "            lines.append('double' +self._print(Assignment(var, sub_expr))\n",
    "        M = MatrixSymbol('M', *simplified.shape)\n",
    "        return '\\n'.join(lines) + '\\n' + self._print(Assignment(M,simplified))"
   ]
  },
  {
   "cell_type": "code",
   "execution_count": 323,
   "metadata": {
    "collapsed": true
   },
   "outputs": [],
   "source": [
    "cpr   = C99CodePrinter()\n",
    "cpppr = CXX11CodePrinter()"
   ]
  },
  {
   "cell_type": "code",
   "execution_count": 330,
   "metadata": {
    "scrolled": false
   },
   "outputs": [
    {
     "ename": "ValueError",
     "evalue": "Cannot assign a matrix to a scalar.",
     "output_type": "error",
     "traceback": [
      "\u001b[1;31m---------------------------------------------------------------------------\u001b[0m",
      "\u001b[1;31mValueError\u001b[0m                                Traceback (most recent call last)",
      "\u001b[1;32m<ipython-input-330-ba2fc149c6ce>\u001b[0m in \u001b[0;36m<module>\u001b[1;34m()\u001b[0m\n\u001b[1;32m----> 1\u001b[1;33m print(      cpppr.doprint(subex_mat[:,1], assign_to = subexes)+ '\\n \\n' #      +\\ \n\u001b[0m\u001b[0;32m      2\u001b[0m \u001b[1;31m#      cpppr.doprint(ODEterms[0]   , assign_to = out_D)  + '\\n \\n' \\\u001b[0m\u001b[1;33m\u001b[0m\u001b[1;33m\u001b[0m\u001b[0m\n\u001b[0;32m      3\u001b[0m \u001b[1;31m#      +\\\u001b[0m\u001b[1;33m\u001b[0m\u001b[1;33m\u001b[0m\u001b[0m\n\u001b[0;32m      4\u001b[0m \u001b[1;31m#      cpppr.doprint(ODEterms[1]   , assign_to = out_H)  + '\\n \\n' \\\u001b[0m\u001b[1;33m\u001b[0m\u001b[1;33m\u001b[0m\u001b[0m\n\u001b[0;32m      5\u001b[0m \u001b[1;31m#      +\\\u001b[0m\u001b[1;33m\u001b[0m\u001b[1;33m\u001b[0m\u001b[0m\n",
      "\u001b[1;32mC:\\ProgramData\\Anaconda3\\lib\\site-packages\\sympy\\printing\\codeprinter.py\u001b[0m in \u001b[0;36mdoprint\u001b[1;34m(self, expr, assign_to)\u001b[0m\n\u001b[0;32m     79\u001b[0m         \u001b[0mself\u001b[0m\u001b[1;33m.\u001b[0m\u001b[0m_number_symbols\u001b[0m \u001b[1;33m=\u001b[0m \u001b[0mset\u001b[0m\u001b[1;33m(\u001b[0m\u001b[1;33m)\u001b[0m\u001b[1;33m\u001b[0m\u001b[0m\n\u001b[0;32m     80\u001b[0m \u001b[1;33m\u001b[0m\u001b[0m\n\u001b[1;32m---> 81\u001b[1;33m         \u001b[0mlines\u001b[0m \u001b[1;33m=\u001b[0m \u001b[0mself\u001b[0m\u001b[1;33m.\u001b[0m\u001b[0m_print\u001b[0m\u001b[1;33m(\u001b[0m\u001b[0mexpr\u001b[0m\u001b[1;33m)\u001b[0m\u001b[1;33m.\u001b[0m\u001b[0msplitlines\u001b[0m\u001b[1;33m(\u001b[0m\u001b[1;33m)\u001b[0m\u001b[1;33m\u001b[0m\u001b[0m\n\u001b[0m\u001b[0;32m     82\u001b[0m \u001b[1;33m\u001b[0m\u001b[0m\n\u001b[0;32m     83\u001b[0m         \u001b[1;31m# format the output\u001b[0m\u001b[1;33m\u001b[0m\u001b[1;33m\u001b[0m\u001b[0m\n",
      "\u001b[1;32mC:\\ProgramData\\Anaconda3\\lib\\site-packages\\sympy\\printing\\printer.py\u001b[0m in \u001b[0;36m_print\u001b[1;34m(self, expr, *args, **kwargs)\u001b[0m\n\u001b[0;32m    255\u001b[0m                 \u001b[0mprintmethod\u001b[0m \u001b[1;33m=\u001b[0m \u001b[1;34m'_print_'\u001b[0m \u001b[1;33m+\u001b[0m \u001b[0mcls\u001b[0m\u001b[1;33m.\u001b[0m\u001b[0m__name__\u001b[0m\u001b[1;33m\u001b[0m\u001b[0m\n\u001b[0;32m    256\u001b[0m                 \u001b[1;32mif\u001b[0m \u001b[0mhasattr\u001b[0m\u001b[1;33m(\u001b[0m\u001b[0mself\u001b[0m\u001b[1;33m,\u001b[0m \u001b[0mprintmethod\u001b[0m\u001b[1;33m)\u001b[0m\u001b[1;33m:\u001b[0m\u001b[1;33m\u001b[0m\u001b[0m\n\u001b[1;32m--> 257\u001b[1;33m                     \u001b[1;32mreturn\u001b[0m \u001b[0mgetattr\u001b[0m\u001b[1;33m(\u001b[0m\u001b[0mself\u001b[0m\u001b[1;33m,\u001b[0m \u001b[0mprintmethod\u001b[0m\u001b[1;33m)\u001b[0m\u001b[1;33m(\u001b[0m\u001b[0mexpr\u001b[0m\u001b[1;33m,\u001b[0m \u001b[1;33m*\u001b[0m\u001b[0margs\u001b[0m\u001b[1;33m,\u001b[0m \u001b[1;33m**\u001b[0m\u001b[0mkwargs\u001b[0m\u001b[1;33m)\u001b[0m\u001b[1;33m\u001b[0m\u001b[0m\n\u001b[0m\u001b[0;32m    258\u001b[0m             \u001b[1;31m# Unknown object, fall back to the emptyPrinter.\u001b[0m\u001b[1;33m\u001b[0m\u001b[1;33m\u001b[0m\u001b[0m\n\u001b[0;32m    259\u001b[0m             \u001b[1;32mreturn\u001b[0m \u001b[0mself\u001b[0m\u001b[1;33m.\u001b[0m\u001b[0memptyPrinter\u001b[0m\u001b[1;33m(\u001b[0m\u001b[0mexpr\u001b[0m\u001b[1;33m)\u001b[0m\u001b[1;33m\u001b[0m\u001b[0m\n",
      "\u001b[1;32mC:\\ProgramData\\Anaconda3\\lib\\site-packages\\sympy\\printing\\codeprinter.py\u001b[0m in \u001b[0;36m_print_Assignment\u001b[1;34m(self, expr)\u001b[0m\n\u001b[0;32m    281\u001b[0m             \u001b[0mlines\u001b[0m \u001b[1;33m=\u001b[0m \u001b[1;33m[\u001b[0m\u001b[1;33m]\u001b[0m\u001b[1;33m\u001b[0m\u001b[0m\n\u001b[0;32m    282\u001b[0m             \u001b[1;32mfor\u001b[0m \u001b[1;33m(\u001b[0m\u001b[0mi\u001b[0m\u001b[1;33m,\u001b[0m \u001b[0mj\u001b[0m\u001b[1;33m)\u001b[0m \u001b[1;32min\u001b[0m \u001b[0mself\u001b[0m\u001b[1;33m.\u001b[0m\u001b[0m_traverse_matrix_indices\u001b[0m\u001b[1;33m(\u001b[0m\u001b[0mlhs\u001b[0m\u001b[1;33m)\u001b[0m\u001b[1;33m:\u001b[0m\u001b[1;33m\u001b[0m\u001b[0m\n\u001b[1;32m--> 283\u001b[1;33m                 \u001b[0mtemp\u001b[0m \u001b[1;33m=\u001b[0m \u001b[0mAssignment\u001b[0m\u001b[1;33m(\u001b[0m\u001b[0mlhs\u001b[0m\u001b[1;33m[\u001b[0m\u001b[0mi\u001b[0m\u001b[1;33m,\u001b[0m \u001b[0mj\u001b[0m\u001b[1;33m]\u001b[0m\u001b[1;33m,\u001b[0m \u001b[0mrhs\u001b[0m\u001b[1;33m[\u001b[0m\u001b[0mi\u001b[0m\u001b[1;33m,\u001b[0m \u001b[0mj\u001b[0m\u001b[1;33m]\u001b[0m\u001b[1;33m)\u001b[0m\u001b[1;33m\u001b[0m\u001b[0m\n\u001b[0m\u001b[0;32m    284\u001b[0m                 \u001b[0mcode0\u001b[0m \u001b[1;33m=\u001b[0m \u001b[0mself\u001b[0m\u001b[1;33m.\u001b[0m\u001b[0m_print\u001b[0m\u001b[1;33m(\u001b[0m\u001b[0mtemp\u001b[0m\u001b[1;33m)\u001b[0m\u001b[1;33m\u001b[0m\u001b[0m\n\u001b[0;32m    285\u001b[0m                 \u001b[0mlines\u001b[0m\u001b[1;33m.\u001b[0m\u001b[0mappend\u001b[0m\u001b[1;33m(\u001b[0m\u001b[0mcode0\u001b[0m\u001b[1;33m)\u001b[0m\u001b[1;33m\u001b[0m\u001b[0m\n",
      "\u001b[1;32mC:\\ProgramData\\Anaconda3\\lib\\site-packages\\sympy\\codegen\\ast.py\u001b[0m in \u001b[0;36m__new__\u001b[1;34m(cls, lhs, rhs, **assumptions)\u001b[0m\n\u001b[0;32m     93\u001b[0m                 \u001b[1;32mraise\u001b[0m \u001b[0mValueError\u001b[0m\u001b[1;33m(\u001b[0m\u001b[1;34m\"Dimensions of lhs and rhs don't align.\"\u001b[0m\u001b[1;33m)\u001b[0m\u001b[1;33m\u001b[0m\u001b[0m\n\u001b[0;32m     94\u001b[0m         \u001b[1;32melif\u001b[0m \u001b[0mrhs_is_mat\u001b[0m \u001b[1;32mand\u001b[0m \u001b[1;32mnot\u001b[0m \u001b[0mlhs_is_mat\u001b[0m\u001b[1;33m:\u001b[0m\u001b[1;33m\u001b[0m\u001b[0m\n\u001b[1;32m---> 95\u001b[1;33m             \u001b[1;32mraise\u001b[0m \u001b[0mValueError\u001b[0m\u001b[1;33m(\u001b[0m\u001b[1;34m\"Cannot assign a matrix to a scalar.\"\u001b[0m\u001b[1;33m)\u001b[0m\u001b[1;33m\u001b[0m\u001b[0m\n\u001b[0m\u001b[0;32m     96\u001b[0m         \u001b[1;32mreturn\u001b[0m \u001b[0mRelational\u001b[0m\u001b[1;33m.\u001b[0m\u001b[0m__new__\u001b[0m\u001b[1;33m(\u001b[0m\u001b[0mcls\u001b[0m\u001b[1;33m,\u001b[0m \u001b[0mlhs\u001b[0m\u001b[1;33m,\u001b[0m \u001b[0mrhs\u001b[0m\u001b[1;33m,\u001b[0m \u001b[1;33m**\u001b[0m\u001b[0massumptions\u001b[0m\u001b[1;33m)\u001b[0m\u001b[1;33m\u001b[0m\u001b[0m\n\u001b[0;32m     97\u001b[0m \u001b[1;33m\u001b[0m\u001b[0m\n",
      "\u001b[1;31mValueError\u001b[0m: Cannot assign a matrix to a scalar."
     ]
    }
   ],
   "source": [
    "print(\\\n",
    "      cpppr.doprint(subex_mat[:,1], assign_to = subexes)+ '\\n \\n' \\\n",
    "#      +\\ \n",
    "#      cpppr.doprint(ODEterms[0]   , assign_to = out_D)  + '\\n \\n' \\\n",
    "#      +\\\n",
    "#      cpppr.doprint(ODEterms[1]   , assign_to = out_H)  + '\\n \\n' \\\n",
    "#      +\\\n",
    "#      cpppr.doprint(ODEterms[2]   , assign_to = out_B)  + '\\n \\n' \\\n",
    "#      +\\\n",
    "#      cpppr.doprint(ODEterms[3]   , assign_to = out_L)  + '\\n \\n' \\\n",
    "     )"
   ]
  }
 ],
 "metadata": {
  "kernelspec": {
   "display_name": "Python 3",
   "language": "python",
   "name": "python3"
  },
  "language_info": {
   "codemirror_mode": {
    "name": "ipython",
    "version": 3
   },
   "file_extension": ".py",
   "mimetype": "text/x-python",
   "name": "python",
   "nbconvert_exporter": "python",
   "pygments_lexer": "ipython3",
   "version": "3.6.1"
  }
 },
 "nbformat": 4,
 "nbformat_minor": 2
}
