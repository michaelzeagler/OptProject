{
 "cells": [
  {
   "cell_type": "code",
   "execution_count": 1,
   "metadata": {
    "collapsed": true
   },
   "outputs": [],
   "source": [
    "# defines a 3D, 3DOF, human configured arm from the shoulder to wrist"
   ]
  },
  {
   "cell_type": "code",
   "execution_count": 1,
   "metadata": {
    "collapsed": true
   },
   "outputs": [],
   "source": [
    "from sympy import symbols, cse, Function, diff, MatrixSymbol, Eq, BlockMatrix\n",
    "from sympy import latex \n",
    "\n",
    "from sympy.physics.mechanics import dynamicsymbols, ReferenceFrame, Point,\\\n",
    "kinetic_energy, potential_energy, inertia, RigidBody, Lagrangian, \\\n",
    "LagrangesMethod, init_vprinting, msubs\n",
    "\n",
    "init_vprinting()\n",
    "\n",
    "from sympy.physics.matrices import Matrix\n",
    "\n",
    "#from sympy.utilities.lambdify import lambdify, implemented_function\n",
    "\n",
    "#import numpy\n",
    "\n",
    "#from pydy.codegen.ode_function_generators import generate_ode_function\n",
    "\n",
    "from sympy.utilities.codegen import codegen, Routine\n",
    "\n",
    "from sympy.printing.cxxcode import CXX11CodePrinter\n",
    "from sympy.printing.ccode import C99CodePrinter"
   ]
  },
  {
   "cell_type": "code",
   "execution_count": 2,
   "metadata": {
    "collapsed": true
   },
   "outputs": [],
   "source": [
    "codegen?"
   ]
  },
  {
   "cell_type": "code",
   "execution_count": 3,
   "metadata": {
    "collapsed": true
   },
   "outputs": [],
   "source": [
    "# system modifications from other domains (FEA, motor modeling)\n",
    "# would have to go here before mass properties & link lengths"
   ]
  },
  {
   "cell_type": "code",
   "execution_count": 4,
   "metadata": {
    "collapsed": true
   },
   "outputs": [],
   "source": [
    "# reference frames - need to start the link simplification from here\n",
    "\n",
    "GroundFrame = ReferenceFrame('F_g')\n",
    "\n",
    "link01Frame    = ReferenceFrame('F_{1}')\n",
    "link02Frame    = ReferenceFrame('F_{2}')\n",
    "link03Frame    = ReferenceFrame('F_{3}')\n",
    "\n",
    "framelist = [GroundFrame,link01Frame,link02Frame,link03Frame]"
   ]
  },
  {
   "cell_type": "code",
   "execution_count": 5,
   "metadata": {
    "collapsed": true
   },
   "outputs": [],
   "source": [
    "# coordinates and states\n",
    "th1,th2,th3         = dynamicsymbols('theta1,theta2,theta3')\n",
    "th1d,th2d,th3d     = dynamicsymbols('theta1,theta2,theta3',1)\n",
    "th1dd,th2dd,th3dd = dynamicsymbols('theta1,theta2,theta3',2)\n",
    "\n",
    "om1,om2,om3        = dynamicsymbols('omega1,omega2,omega3')\n",
    "omd1,omd2,omd3     = dynamicsymbols('omega1,omega2,omega3',1)\n",
    "\n",
    "\n",
    "q   = Matrix([th1,  th2,  th3])\n",
    "\n",
    "qd  = Matrix([th1d, th2d, th3d])\n",
    "#qd  = Matrix([om1, om2, om3])\n",
    "\n",
    "qdd = Matrix([th1dd,th2dd,th3dd])\n",
    "#qdd = Matrix([omd1, omd2, omd3])\n",
    "\n",
    "xst   = Matrix([*q,  *qd])\n",
    "xdst  = Matrix([*qd, *qdd])"
   ]
  },
  {
   "cell_type": "code",
   "execution_count": 6,
   "metadata": {
    "collapsed": true
   },
   "outputs": [],
   "source": [
    "# aligning frames\n",
    "\n",
    "link01Frame.orient(GroundFrame, 'Axis',(th1,GroundFrame.z))\n",
    "link02Frame.orient(link01Frame, 'Axis',(th2,link01Frame.x))\n",
    "link03Frame.orient(link02Frame, 'Axis',(th3,link02Frame.x))\n",
    "\n",
    "\n",
    "link01Frame.set_ang_vel(GroundFrame, th1d*GroundFrame.z)\n",
    "link02Frame.set_ang_vel(link01Frame, th2d*link01Frame.x)\n",
    "link03Frame.set_ang_vel(link02Frame, th3d*link02Frame.x)"
   ]
  },
  {
   "cell_type": "code",
   "execution_count": 7,
   "metadata": {
    "collapsed": true
   },
   "outputs": [],
   "source": [
    "# defining joint positions & velocities\n",
    "\n",
    "shoulder = Point('shoulder') \n",
    "shoulder.set_vel(GroundFrame,0)\n",
    "\n",
    "elbow = Point('elbow')\n",
    "#UpArmLen = .2\n",
    "UpArmLen = symbols('L_{ua}')\n",
    "elbow.set_pos(shoulder , UpArmLen * link01Frame.x)\n",
    "elbow.v2pt_theory(shoulder,GroundFrame,link02Frame);\n",
    "\n",
    "wrist = Point('wrist')\n",
    "wrist.set_pos(elbow , UpArmLen*link03Frame.z);\n",
    "wrist.v2pt_theory(elbow,GroundFrame,link03Frame);"
   ]
  },
  {
   "cell_type": "code",
   "execution_count": 8,
   "metadata": {
    "collapsed": true
   },
   "outputs": [],
   "source": [
    "# setting positions of centers of mass\n",
    "\n",
    "l1com = Point('l1com')\n",
    "l2com = Point('l2com')\n",
    "l3com = Point('l3com')\n",
    "\n",
    "l1com.set_pos(shoulder, 0)\n",
    "l2com.set_pos(shoulder, .5*UpArmLen*link02Frame.z)\n",
    "l3com.set_pos(elbow, .5*UpArmLen*link03Frame.z)\n",
    "\n",
    "\n",
    "\n",
    "l1com.v2pt_theory(shoulder,GroundFrame,link01Frame);\n",
    "l2com.v2pt_theory(shoulder,GroundFrame,link02Frame);\n",
    "l3com.v2pt_theory(shoulder,GroundFrame,link03Frame);"
   ]
  },
  {
   "cell_type": "code",
   "execution_count": 9,
   "metadata": {
    "collapsed": true
   },
   "outputs": [],
   "source": [
    "# link masses and inertias\n",
    "m_b, m_r = symbols('m_b m_r')\n",
    "Jx, Jz, jzshoulder= symbols('J_x J_z J_zs')\n",
    "\n",
    "# inertia dyadics\n",
    "JShoulder = inertia(link01Frame,0,0,jzshoulder,ixy=0,iyz=0,izx=0)\n",
    "JUpper    = inertia(link02Frame,Jx,Jx,Jz,      ixy=0,iyz=0,izx=0)\n",
    "JFore     = inertia(link03Frame,Jx,Jx,Jz,      ixy=0,iyz=0,izx=0)\n",
    "\n",
    "# JFore.to_matrix(link04Frame) # produces a tensor from the dyadic"
   ]
  },
  {
   "cell_type": "code",
   "execution_count": 10,
   "metadata": {
    "collapsed": true
   },
   "outputs": [],
   "source": [
    "# Defining rigid body classes\n",
    "\n",
    "link01 = RigidBody('Shoulder', l1com, link01Frame, m_b, (JShoulder, l1com))\n",
    "link02 = RigidBody('UpperArm', l2com, link02Frame, m_r, (JUpper   , l2com))\n",
    "link03 = RigidBody('LowerArm', l3com, link03Frame, m_r, (JFore   , l3com))\n"
   ]
  },
  {
   "cell_type": "code",
   "execution_count": 11,
   "metadata": {
    "collapsed": true
   },
   "outputs": [],
   "source": [
    "# Lagrangian\n",
    "\n",
    "g = symbols('g')\n",
    "\n",
    "link01.potential_energy = link01.mass * GroundFrame.y.dot(l1com.pos_from(shoulder)) * g\n",
    "link02.potential_energy = link02.mass * GroundFrame.y.dot(l2com.pos_from(shoulder)) * g\n",
    "link03.potential_energy = link03.mass * GroundFrame.y.dot(l3com.pos_from(shoulder)) * g"
   ]
  },
  {
   "cell_type": "code",
   "execution_count": 12,
   "metadata": {
    "collapsed": true
   },
   "outputs": [],
   "source": [
    "L = Lagrangian(GroundFrame,link01,link02,link03)"
   ]
  },
  {
   "cell_type": "code",
   "execution_count": 13,
   "metadata": {
    "collapsed": true
   },
   "outputs": [],
   "source": [
    "sys = LagrangesMethod(L,q)\n",
    "#sys = LagrangesMethod(L,q,forcelist=u_list,frame=GroundFrame)"
   ]
  },
  {
   "cell_type": "code",
   "execution_count": 14,
   "metadata": {
    "collapsed": true
   },
   "outputs": [],
   "source": [
    "# defining nonlinear system\n",
    "\n",
    "sys.form_lagranges_equations();\n",
    "\n",
    "D = sys.mass_matrix;\n",
    "H = sys.forcing;\n",
    "\n",
    "\n",
    "#f_b = sys.forcing;\n",
    "#B = f_b.jacobian(u)\n",
    "#H = f_b - B*u\n",
    "\n",
    "\n",
    "#f_x = D.inv()*H;\n",
    "#g_x = D.inv()*B;"
   ]
  },
  {
   "cell_type": "code",
   "execution_count": 15,
   "metadata": {
    "collapsed": true
   },
   "outputs": [],
   "source": [
    "# defining observer outputs\n",
    "\n",
    "h1 = wrist.pos_from(shoulder).dot(GroundFrame.x)\n",
    "h2 = wrist.pos_from(shoulder).dot(GroundFrame.y)\n",
    "h3 = wrist.pos_from(shoulder).dot(GroundFrame.z)\n",
    "\n",
    "vwrist = wrist.vel(GroundFrame)\n",
    "\n",
    "h1d = vwrist.dot(GroundFrame.x)\n",
    "h2d = vwrist.dot(GroundFrame.y)\n",
    "h3d = vwrist.dot(GroundFrame.z)\n",
    "\n",
    "h_x = Matrix([h1,h2,h3])\n",
    "hd_x = Matrix([h1d,h2d,h3d])\n",
    "\n",
    "dhdx = h_x.jacobian(xst)\n",
    "Lfh  = dhdx*xdst\n",
    "dLie = Lfh.jacobian(xst)"
   ]
  },
  {
   "cell_type": "code",
   "execution_count": 16,
   "metadata": {
    "collapsed": true
   },
   "outputs": [],
   "source": [
    "# defining actuator torques & B matrix\n",
    "\n",
    "tau1,tau2,tau3 = dynamicsymbols('tau1,tau2,tau3')\n",
    "u = Matrix([tau1,tau2,tau3])\n",
    "\n",
    "link01torques = tau1*link01Frame.z\n",
    "link02torques = tau2*link02Frame.x - tau3*link02Frame.z\n",
    "link03torques = tau3*link03Frame.z\n",
    "\n",
    "\n",
    "\n",
    "u_list = [(link01Frame,link01torques),(link02Frame,link02torques),\n",
    "(link03Frame,link03torques)]\n",
    "\n",
    "E_nc = u.T*q\n",
    "B = (E_nc.jacobian(u)).jacobian(q)"
   ]
  },
  {
   "cell_type": "markdown",
   "metadata": {
    "collapsed": true
   },
   "source": [
    "# Code generation"
   ]
  },
  {
   "cell_type": "code",
   "execution_count": 17,
   "metadata": {
    "collapsed": true
   },
   "outputs": [],
   "source": [
    "# Matrix symbols for outputs in code generation\n",
    "\n",
    "out_Dmat    = MatrixSymbol('out_Dmat',*D.shape)\n",
    "out_Hvec    = MatrixSymbol('out_Hvec',*H.shape)\n",
    "out_Bmat    = MatrixSymbol('out_Bmat',*B.shape)\n",
    "out_dLie    = MatrixSymbol('out_dLie',*dLie.shape)"
   ]
  },
  {
   "cell_type": "code",
   "execution_count": 18,
   "metadata": {
    "collapsed": true
   },
   "outputs": [],
   "source": [
    "# state substitution\n",
    "\n",
    "# subsituting velocities beforehand to avoid issues with derivatives in cse\n",
    "vsym = symbols('v1 v2 v3')\n",
    "vmap = dict(zip(qd,vsym))\n",
    "\n",
    "x_st = xst.xreplace(vmap) # state vector with no velocities\n",
    "\n",
    "st = MatrixSymbol('st',*xst.shape)\n",
    "\n",
    "state_array_map = dict(zip(x_st,st))\n",
    "\n",
    "# parameter substitution\n",
    "freesymbols_set = H.free_symbols | D.free_symbols | dLie.free_symbols\n",
    "freesymbols_set.remove(symbols('t'))\n",
    "\n",
    "freesymbols = Matrix([*freesymbols_set])\n",
    "\n",
    "par = MatrixSymbol('par',*freesymbols.shape)\n",
    "parameter_map = dict(zip(freesymbols,par))\n",
    "\n",
    "\n",
    "\n",
    "\n",
    "fvalmap = {**state_array_map,**parameter_map}"
   ]
  },
  {
   "cell_type": "code",
   "execution_count": 19,
   "metadata": {
    "scrolled": true
   },
   "outputs": [
    {
     "data": {
      "image/png": "[encoded data removed]",
      "text/latex": [
       "$$\\left[\\begin{matrix}st_{0, 0}\\\\st_{1, 0}\\\\st_{2, 0}\\\\st_{3, 0}\\\\st_{4, 0}\\\\st_{5, 0}\\end{matrix}\\right]$$"
      ],
      "text/plain": [
       "⎡st₀₀⎤\n",
       "⎢    ⎥\n",
       "⎢st₁₀⎥\n",
       "⎢    ⎥\n",
       "⎢st₂₀⎥\n",
       "⎢    ⎥\n",
       "⎢st₃₀⎥\n",
       "⎢    ⎥\n",
       "⎢st₄₀⎥\n",
       "⎢    ⎥\n",
       "⎣st₅₀⎦"
      ]
     },
     "execution_count": 19,
     "metadata": {},
     "output_type": "execute_result"
    }
   ],
   "source": [
    "# state vector with all substitutions - prints as indexed if substitutions are correct\n",
    "\n",
    "x_st.xreplace(fvalmap)"
   ]
  },
  {
   "cell_type": "markdown",
   "metadata": {
    "collapsed": true
   },
   "source": [
    "## Generating individual functions with codegen\n",
    "\n",
    "### single ode matrix symbol equality terms \n",
    "\n",
    "Dmat_cgen   = D.xreplace(fvalmap)\n",
    "Hvec_cgen   = H.xreplace(fvalmap)\n",
    "Bmat_cgen   = B.xreplace(fvalmap)\n",
    "dLie_cgen   = dLie.xreplace(fvalmap)\n",
    "\n",
    "D_eq        = Eq(out_Dmat,Dmat_cgen)\n",
    "H_eq        = Eq(out_Hvec,Hvec_cgen)\n",
    "B_eq        = Eq(out_Bmat,Bmat_cgen)\n",
    "L_eq        = Eq(out_dLie,dLie_cgen)\n",
    "\n",
    "\n",
    "\n",
    "### single ODE terms written to individual files\n",
    "\n",
    "[(c_Dmat,c_DmatSource),(h_Dmat,h_DmatSource)]\\\n",
    "= codegen((\\\n",
    "           'c_Dmat',D_eq),\\\n",
    "          language = 'c',\\\n",
    "          argument_sequence = (st,par,out_Dmat),\\\n",
    "          project = 'Robotic System Optimization',\\\n",
    "          global_vars = None,\\\n",
    "          to_files = True\n",
    "         )\n",
    "\n",
    "[(c_Hvec,c_HvecSource),(h_Hvec,h_HvecSource)]\\\n",
    "= codegen(('c_Hvec',H_eq),\\\n",
    "          language = 'c',\\\n",
    "          argument_sequence = (st,par,out_Hvec),\\\n",
    "          project = 'Robotic System Optimization')\n",
    "\n",
    "[(c_dLie,c_dLieSource),(h_dLie,h_dLieSource)]\\\n",
    "= codegen(('c_dLie',L_eq),\\\n",
    "          language = 'c',\\\n",
    "          argument_sequence = (st,par,out_dLie),\\\n",
    "          project = 'Robotic System Optimization')\n",
    "\n",
    "[(c_Bmat,c_BmatSource),(h_Bmat,h_BmatSource)]\\\n",
    "= codegen(('c_Bmat',B_eq),\\\n",
    "          language = 'c',\\\n",
    "          argument_sequence = (st,par,out_Bmat),\\\n",
    "          project = 'Robotic System Optimization')"
   ]
  },
  {
   "cell_type": "code",
   "execution_count": null,
   "metadata": {
    "collapsed": true
   },
   "outputs": [],
   "source": [
    "## Alternative method of using one single codegen call\n",
    "\n",
    "ODEeqs = [D_eq,H_eq,B_eq,L_eq] \n",
    "[(c_terms,c_terms_source),(h_terms,h_terms_source)]=\\\n",
    "        codegen(('ODEeqs',ODEeqs),\\\n",
    "               language = 'c',\\\n",
    "               argument_sequence = (st,par,out_Dmat,out_Hvec\\\n",
    "                                    ,out_Bmat,out_dLie),\\\n",
    "               project = 'Robotic System Optimization',\\\n",
    "               prefix = 'ODEterms_',\\\n",
    "               to_files = True,\\\n",
    "               header = True\\ \n",
    "               )"
   ]
  },
  {
   "cell_type": "markdown",
   "metadata": {
    "collapsed": true
   },
   "source": [
    "# CSE for all terms simultaneously with code printing"
   ]
  },
  {
   "cell_type": "code",
   "execution_count": 20,
   "metadata": {
    "collapsed": true
   },
   "outputs": [],
   "source": [
    "# generating subexpressions\n",
    "\n",
    "subextemp, ODEtermstemp = cse([D.xreplace(vmap),\\\n",
    "                               H.xreplace(vmap),\\\n",
    "                               B.xreplace(vmap),\\\n",
    "                               dLie.xreplace(vmap)])\n",
    "\n",
    "\n",
    "subex_mat = Matrix(subextemp).xreplace(fvalmap)\n",
    "\n",
    "ODEterms =[];\n",
    "for ind in range(0, len(ODEtermstemp)):\n",
    "    ODEterms.append(ODEtermstemp[ind].xreplace(fvalmap))"
   ]
  },
  {
   "cell_type": "markdown",
   "metadata": {},
   "source": [
    "### subclassing a printer for the subexpressions"
   ]
  },
  {
   "cell_type": "code",
   "execution_count": 21,
   "metadata": {
    "collapsed": true
   },
   "outputs": [],
   "source": [
    "class CSE_Cpp_printer(CXX11CodePrinter):\n",
    "    def _print_ImmutableDenseMatrix(self,expression):\n",
    "        \n",
    "        lines = []\n",
    "        \n",
    "        for idx, expr in enumerate(expression):\n",
    "            varnum = str(idx)\n",
    "            lines.append('double ' + 'x' + varnum + ' = ' + self._print(expr))\n",
    "       \n",
    "        return '\\n'.join(lines) "
   ]
  },
  {
   "cell_type": "code",
   "execution_count": 22,
   "metadata": {
    "collapsed": true
   },
   "outputs": [],
   "source": [
    "csepr = CSE_Cpp_printer()\n",
    "cpppr = CXX11CodePrinter()"
   ]
  },
  {
   "cell_type": "code",
   "execution_count": 23,
   "metadata": {
    "scrolled": false
   },
   "outputs": [
    {
     "name": "stdout",
     "output_type": "stream",
     "text": [
      "double x0 = st[1]\n",
      "double x1 = sin(x0)\n",
      "double x2 = std::pow(x1, 2)\n",
      "double x3 = cos(x0)\n",
      "double x4 = std::pow(par[3], 2)\n",
      "double x5 = x4*par[2]\n",
      "double x6 = 0.25*x5\n",
      "double x7 = st[2]\n",
      "double x8 = cos(x7)\n",
      "double x9 = x1*x8\n",
      "double x10 = sin(x7)\n",
      "double x11 = x10*x3\n",
      "double x12 = x11 + x9\n",
      "double x13 = std::pow(x12, 2)\n",
      "double x14 = x3*x8\n",
      "double x15 = x1*x10\n",
      "double x16 = x14 - x15\n",
      "double x17 = (1.0L/2.0L)*par[2]\n",
      "double x18 = 0.5*x5\n",
      "double x19 = -x16*x18\n",
      "double x20 = x6 + par[0]\n",
      "double x21 = x1*x3*par[5]\n",
      "double x22 = x21*st[3]\n",
      "double x23 = x1*x3*par[0]\n",
      "double x24 = x23*st[3]\n",
      "double x25 = st[0]\n",
      "double x26 = sin(x25)\n",
      "double x27 = 0.5*x4*par[2]*st[3]\n",
      "double x28 = cos(x25)\n",
      "double x29 = x28*par[3]\n",
      "double x30 = x26*par[3]\n",
      "double x31 = -x11 - x9\n",
      "double x32 = x30*x31\n",
      "double x33 = (1.0L/2.0L)*par[0]*st[3]\n",
      "double x34 = 2*x15\n",
      "double x35 = 2*x14\n",
      "double x36 = x12*(-x34*st[4] - x34*st[5] + x35*st[4] + x35*st[5])\n",
      "double x37 = (1.0L/2.0L)*x16*par[5]*st[3]\n",
      "double x38 = 2*x9\n",
      "double x39 = 2*x11\n",
      "double x40 = 1.0*x4*(st[4] + st[5])\n",
      "double x41 = -x11*st[4] - x11*st[5] - x9*st[4] - x9*st[5]\n",
      "double x42 = 0.5*x28*par[1]*par[2]*par[3]\n",
      "double x43 = std::pow(st[3], 2)\n",
      "double x44 = -x14 + x15\n",
      "double x45 = x12*(-x34 + x35)\n",
      "double x46 = x17*(-x31*x40*st[3] + 0.25*x4*x43*x45) + x27*x41 - x42*x44 + (x33*x45 + x37*(-x38 - x39))*st[3]\n",
      "double x47 = x29*x44\n",
      "double x48 = x12*st[4]\n",
      "double x49 = x12*st[5]\n",
      "double x50 = -x30*x48 - x30*x49 - x47*st[3]\n",
      "double x51 = -x29*x31 - x30\n",
      "double x52 = x30*x44\n",
      "double x53 = -x52\n",
      "double x54 = x29*x48 + x29*x49 - x52*st[3]\n",
      "double x55 = x44*par[3]\n",
      "double x56 = x55*st[4] + x55*st[5]\n",
      "double x57 = x31*par[3]\n",
      "\n",
      "out_Dmat[0] = x13*par[0] + std::pow(x16, 2)*par[5] + x17*(0.5*x13*x4 + 2*x4) + x2*x6 + x2*par[0] + std::pow(x3, 2)*par[5] + par[4];\n",
      "out_Dmat[1] = x19;\n",
      "out_Dmat[2] = x19;\n",
      "out_Dmat[3] = x19;\n",
      "out_Dmat[4] = x18 + 2*par[0];\n",
      "out_Dmat[5] = x20;\n",
      "out_Dmat[6] = x19;\n",
      "out_Dmat[7] = x20;\n",
      "out_Dmat[8] = x20;\n",
      " \n",
      "out_Hvec[0] = -0.5*x1*x26*par[1]*par[2]*par[3] - x1*x27*x3*st[4] - x17*(0.5*x36*x4*st[3] - x40*x41) + x22*st[4] - x24*st[4] - x33*x36 - x37*(-x38*st[4] - x38*st[5] - x39*st[4] - x39*st[5]) - (x29 - 0.5*x32)*par[1]*par[2] - (-x21*st[4] + x23*st[4])*st[3] - (x16*x41*par[5] + (1.0L/2.0L)*x36*par[0])*st[3];\n",
      "out_Hvec[1] = 0.25*x1*x3*x4*x43*par[2] + x3*x42 + x46 + (-x22 + x24)*st[3];\n",
      "out_Hvec[2] = x46;\n",
      " \n",
      "out_Bmat[0] = 1;\n",
      "out_Bmat[1] = 0;\n",
      "out_Bmat[2] = 0;\n",
      "out_Bmat[3] = 0;\n",
      "out_Bmat[4] = 1;\n",
      "out_Bmat[5] = 0;\n",
      "out_Bmat[6] = 0;\n",
      "out_Bmat[7] = 0;\n",
      "out_Bmat[8] = 1;\n",
      " \n",
      "out_dLie[0] = -x47*st[4] - x47*st[5] + (-x29 + x32)*st[3];\n",
      "out_dLie[1] = x50;\n",
      "out_dLie[2] = x50;\n",
      "out_dLie[3] = x51;\n",
      "out_dLie[4] = x53;\n",
      "out_dLie[5] = x53;\n",
      "out_dLie[6] = x51*st[3] - x52*st[4] - x52*st[5];\n",
      "out_dLie[7] = x54;\n",
      "out_dLie[8] = x54;\n",
      "out_dLie[9] = x29 - x32;\n",
      "out_dLie[10] = x47;\n",
      "out_dLie[11] = x47;\n",
      "out_dLie[12] = 0;\n",
      "out_dLie[13] = x56;\n",
      "out_dLie[14] = x56;\n",
      "out_dLie[15] = 0;\n",
      "out_dLie[16] = x57;\n",
      "out_dLie[17] = x57;\n",
      " \n",
      "\n"
     ]
    }
   ],
   "source": [
    "print(\\\n",
    "      csepr.doprint(subex_mat[:,1]) + '\\n\\n' +\\\n",
    "      cpppr.doprint(ODEterms[0]   , assign_to = out_Dmat)  + '\\n \\n' +\\\n",
    "      cpppr.doprint(ODEterms[1]   , assign_to = out_Hvec)  + '\\n \\n' +\\\n",
    "      cpppr.doprint(ODEterms[2]   , assign_to = out_Bmat)  + '\\n \\n' +\\\n",
    "      cpppr.doprint(ODEterms[3]   , assign_to = out_dLie)  + '\\n \\n' \\\n",
    "     )"
   ]
  },
  {
   "cell_type": "code",
   "execution_count": 24,
   "metadata": {
    "collapsed": true
   },
   "outputs": [],
   "source": [
    "# Feedback linearizing control law\n",
    "def u_IO(xst, ydes, par, poles):\n",
    "    \n",
    "    Dinv = inverse(D(xst,par))\n",
    "\n",
    "    f = Dinv*H(xst,par)\n",
    "    g = Dinv*B(xst,par)\n",
    "\n",
    "    dLie = d_Lfhdx(xst,par)\n",
    "    l2fh  = dLie*f\n",
    "    lglfh = dLie*g\n",
    "\n",
    "    e_y = h_x(xst,par)  - ydes\n",
    "    e_yd =hd_x(xst,par) - yddes\n",
    "    nu   = e_y.multiply_elementwise(poles[:,0]) + \\\n",
    "        e_yd.multiply_elementwise(poles[:,1])\n",
    "\n",
    "    u = inverse(lglfh)*(l2fh - nu)\n",
    "\n",
    "    return u"
   ]
  },
  {
   "cell_type": "code",
   "execution_count": null,
   "metadata": {
    "collapsed": true
   },
   "outputs": [],
   "source": []
  }
 ],
 "metadata": {
  "kernelspec": {
   "display_name": "Python 3",
   "language": "python",
   "name": "python3"
  },
  "language_info": {
   "codemirror_mode": {
    "name": "ipython",
    "version": 3
   },
   "file_extension": ".py",
   "mimetype": "text/x-python",
   "name": "python",
   "nbconvert_exporter": "python",
   "pygments_lexer": "ipython3",
   "version": "3.6.2"
  }
 },
 "nbformat": 4,
 "nbformat_minor": 2
}
